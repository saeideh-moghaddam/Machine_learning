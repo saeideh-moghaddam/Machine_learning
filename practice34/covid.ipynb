{
 "cells": [
  {
   "cell_type": "code",
   "execution_count": null,
   "metadata": {},
   "outputs": [],
   "source": [
    "from simple_image_download import simple_image_download as simp "
   ]
  },
  {
   "cell_type": "code",
   "execution_count": null,
   "metadata": {},
   "outputs": [],
   "source": [
    "response = simp.simple_image_download\n",
    "lst=[‘Sachin Tendulkar’, ‘Rahul Dravid’, ‘Virat Kolhi’,’Rohit Sharma’,’AB de Villiers’,’Shane Warne’,’Brian Lara’]\n",
    "for rep in lst:\n",
    " response().download(rep +’ face’ , 300)"
   ]
  },
  {
   "cell_type": "code",
   "execution_count": null,
   "metadata": {},
   "outputs": [],
   "source": [
    "rep=’Other Cricketer’\n",
    "response().download(rep +’ face’ , 50)"
   ]
  },
  {
   "cell_type": "code",
   "execution_count": null,
   "metadata": {},
   "outputs": [],
   "source": [
    "lst.append(rep)\n",
    "lst\n",
    "\n",
    "import os\n",
    "for rep in lst:\n",
    " os.rename(‘/kaggle/working/simple_images/’+rep+’ face/’, ‘/kaggle/working/simple_images/’+rep)\n",
    "os.rename(‘/kaggle/working/simple_images/’, ‘/kaggle/working/train’)"
   ]
  }
 ],
 "metadata": {
  "kernelspec": {
   "display_name": "Python 3.9.12 64-bit",
   "language": "python",
   "name": "python3"
  },
  "language_info": {
   "name": "python",
   "version": "3.9.12"
  },
  "orig_nbformat": 4,
  "vscode": {
   "interpreter": {
    "hash": "6eba95d76a3076830484dacb41abe097e14c0912d41570c9b710c1f02d7a1e44"
   }
  }
 },
 "nbformat": 4,
 "nbformat_minor": 2
}
